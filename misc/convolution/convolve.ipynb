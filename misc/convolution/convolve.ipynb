{
 "cells": [
  {
   "cell_type": "code",
   "execution_count": 1,
   "metadata": {},
   "outputs": [],
   "source": [
    "# MIT License\n",
    "#\n",
    "# Copyright (c) 2021 Florian\n",
    "#\n",
    "# Permission is hereby granted, free of charge, to any person obtaining a copy\n",
    "# of this software and associated documentation files (the \"Software\"), to deal\n",
    "# in the Software without restriction, including without limitation the rights\n",
    "# to use, copy, modify, merge, publish, distribute, sublicense, and/or sell\n",
    "# copies of the Software, and to permit persons to whom the Software is\n",
    "# furnished to do so, subject to the following conditions:\n",
    "#\n",
    "# The above copyright notice and this permission notice shall be included in all\n",
    "# copies or substantial portions of the Software.\n",
    "#\n",
    "# THE SOFTWARE IS PROVIDED \"AS IS\", WITHOUT WARRANTY OF ANY KIND, EXPRESS OR\n",
    "# IMPLIED, INCLUDING BUT NOT LIMITED TO THE WARRANTIES OF MERCHANTABILITY,\n",
    "# FITNESS FOR A PARTICULAR PURPOSE AND NONINFRINGEMENT. IN NO EVENT SHALL THE\n",
    "# AUTHORS OR COPYRIGHT HOLDERS BE LIABLE FOR ANY CLAIM, DAMAGES OR OTHER\n",
    "# LIABILITY, WHETHER IN AN ACTION OF CONTRACT, TORT OR OTHERWISE, ARISING FROM,\n",
    "# OUT OF OR IN CONNECTION WITH THE SOFTWARE OR THE USE OR OTHER DEALINGS IN THE\n",
    "# SOFTWARE.\n",
    "import numpy as np\n",
    "from pyml.external import ExternalLibrary\n",
    "from scipy.signal import correlate2d, convolve2d\n",
    "\n",
    "ext_lib = ExternalLibrary()"
   ]
  },
  {
   "cell_type": "code",
   "execution_count": 2,
   "metadata": {},
   "outputs": [
    {
     "name": "stdout",
     "output_type": "stream",
     "text": [
      "True\n",
      "True\n",
      "True\n"
     ]
    }
   ],
   "source": [
    "n, k = 100, 61\n",
    "matrix = np.ones((n, n), dtype=np.float64)\n",
    "kernel = np.ones((k ,k), dtype=np.float64)\n",
    "\n",
    "a = ext_lib.cross_correlate_2d(matrix, kernel, mode='valid')\n",
    "b = correlate2d(matrix, kernel, mode='valid')\n",
    "print((a == b).all())\n",
    "\n",
    "a = ext_lib.cross_correlate_2d(matrix, kernel, mode='same')\n",
    "b = correlate2d(matrix, kernel, mode='same')\n",
    "print((a == b).all())\n",
    "\n",
    "a = ext_lib.cross_correlate_2d(matrix, kernel, mode='full')\n",
    "b = correlate2d(matrix, kernel, mode='full')\n",
    "print((a == b).all())"
   ]
  },
  {
   "cell_type": "code",
   "execution_count": 3,
   "metadata": {},
   "outputs": [
    {
     "data": {
      "text/plain": [
       "True"
      ]
     },
     "execution_count": 3,
     "metadata": {},
     "output_type": "execute_result"
    }
   ],
   "source": [
    "import cv2\n",
    "\n",
    "def process_image(image): \n",
    "  image = cv2.imread(image) \n",
    "  image = cv2.cvtColor(src=image, code=cv2.COLOR_BGR2GRAY) \n",
    "  return image\n",
    "\n",
    "def gaussian_kernel(n=5, sigma=0.85):\n",
    "    \"\"\"\\\n",
    "    creates gaussian kernel with side length `l` and a sigma\n",
    "    \"\"\"\n",
    "    ax = np.linspace(-(n - 1) / 2., (n - 1) / 2., n)\n",
    "    gauss = np.exp(-0.5 * np.square(ax) / np.square(sigma))\n",
    "    kernel = np.outer(gauss, gauss)\n",
    "    return kernel / np.sum(kernel)\n",
    "\n",
    "image = process_image('sample.jpg')\n",
    "\n",
    "# gaussian_blur = 1/16 * np.array([[1, 2, 1], [2, 4, 2], [1, 2, 1]])\n",
    "gaussian_blur = gaussian_kernel(21, sigma=10)\n",
    "# gaussian_blur = gaussian_kernel(41, sigma=100)\n",
    "\n",
    "image_new = ext_lib.convolve_2d(image, gaussian_blur, mode='same')\n",
    "# image_new = convolve2d(image, gaussian_blur, mode='same', use_lib=False)\n",
    "# image_new = convolve2d(image, gaussian_blur, mode='same')\n",
    "\n",
    "cv2.imwrite('sample_convolved.jpg', image_new)"
   ]
  },
  {
   "cell_type": "code",
   "execution_count": 4,
   "metadata": {},
   "outputs": [],
   "source": [
    "# %timeit ext_lib.convolve_2d(image, gaussian_blur, mode='same')\n",
    "# %timeit ext_lib.convolve_2d(image, gaussian_blur, mode='same', use_lib=False)\n",
    "# %timeit convolve2d(image, gaussian_blur, mode='same')"
   ]
  }
 ],
 "metadata": {
  "interpreter": {
   "hash": "d9482f30ed8d9aa85c5e8e59a722db4bd67b60c47b13d5d5ca9a194db0bcaf61"
  },
  "kernelspec": {
   "display_name": "Python 3.8.10 64-bit ('python3-venv': venv)",
   "language": "python",
   "name": "python3"
  },
  "language_info": {
   "codemirror_mode": {
    "name": "ipython",
    "version": 3
   },
   "file_extension": ".py",
   "mimetype": "text/x-python",
   "name": "python",
   "nbconvert_exporter": "python",
   "pygments_lexer": "ipython3",
   "version": "3.8.10"
  },
  "orig_nbformat": 4
 },
 "nbformat": 4,
 "nbformat_minor": 2
}

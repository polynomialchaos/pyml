{
 "cells": [
  {
   "cell_type": "code",
   "execution_count": null,
   "metadata": {},
   "outputs": [],
   "source": [
    "%matplotlib ipympl\n",
    "\n",
    "import numpy as np\n",
    "import matplotlib.pyplot as plt\n",
    "from keras.datasets import mnist\n",
    "from keras.utils import to_categorical\n",
    "import pyml"
   ]
  },
  {
   "cell_type": "code",
   "execution_count": null,
   "metadata": {},
   "outputs": [],
   "source": [
    "(x_train, y_train), (x_test, y_test) = mnist.load_data()\n",
    "print(f'{x_train.shape=} {y_train.shape=}')\n",
    "print(f'{x_test.shape=} {y_test.shape=}')\n",
    "\n",
    "idx = 10\n",
    "values = x_train[idx]\n",
    "number = y_train[idx]\n",
    "print(f'{number=}')\n",
    "\n",
    "ig = plt.figure\n",
    "plt.imshow(values, cmap='gray')\n",
    "plt.show()"
   ]
  },
  {
   "cell_type": "code",
   "execution_count": null,
   "metadata": {},
   "outputs": [],
   "source": [
    "def preprocess_data(x, y, limit):\n",
    "    all_indices = np.arange(len(x))\n",
    "    all_indices = np.random.permutation(all_indices)\n",
    "    all_indices = all_indices[:limit]\n",
    "    x, y = x[all_indices], y[all_indices]\n",
    "    x = x.reshape(len(x), 1, 28, 28)\n",
    "    x = x.astype(\"float32\") / 255\n",
    "    y = to_categorical(y)\n",
    "\n",
    "    n_cat = y.shape[1]\n",
    "    y = y.reshape(len(y), n_cat, 1)\n",
    "    return x, y\n",
    "\n",
    "\n",
    "# training data\n",
    "# load MNIST from server,\n",
    "# limit to 100 images per class since we're not training on GPU\n",
    "(x_train, y_train), (x_test, y_test) = mnist.load_data()\n",
    "x_train, y_train = preprocess_data(x_train, y_train, 5000)\n",
    "x_test, y_test = preprocess_data(x_test, y_test, 1000)\n",
    "\n",
    "print(f'{x_train.shape=} {y_train.shape=}')\n",
    "print(f'{x_test.shape=} {y_test.shape=}')"
   ]
  },
  {
   "cell_type": "code",
   "execution_count": null,
   "metadata": {},
   "outputs": [],
   "source": [
    "network = pyml.Network(pyml.BinaryCrossEntropyLoss())\n",
    "network.add_layer(pyml.ConvolutionalLayer((1, 28, 28), 3, 5))\n",
    "network.add_layer(pyml.ActivationLayer(pyml.SigmoidActivation()))\n",
    "network.add_layer(pyml.ReshapeLayer((5, 26, 26), (5 * 26 * 26, 1)))\n",
    "network.add_layer(pyml.FullyConnectedLayer(5 * 26 * 26, 100))\n",
    "network.add_layer(pyml.ActivationLayer(pyml.SigmoidActivation()))\n",
    "network.add_layer(pyml.FullyConnectedLayer(100, 10))\n",
    "network.add_layer(pyml.ActivationLayer(pyml.SigmoidActivation()))\n",
    "\n",
    "network.train(x_train, y_train, epochs=20, learning_rate=0.1, do_print=True)"
   ]
  },
  {
   "cell_type": "code",
   "execution_count": null,
   "metadata": {},
   "outputs": [],
   "source": [
    "n_false = 0\n",
    "for x, y in zip(x_test, y_test):\n",
    "    output = network.forward(x)\n",
    "    ref, pred = np.argmax(y), np.argmax(output)\n",
    "    okay = ref == pred\n",
    "    if not okay:\n",
    "        n_false += 1\n",
    "\n",
    "\n",
    "rel_false = n_false / len(x_test) * 100\n",
    "print(f'Rel. false: {rel_false}%')"
   ]
  }
 ],
 "metadata": {
  "kernelspec": {
   "display_name": ".venv",
   "language": "python",
   "name": "python3"
  },
  "language_info": {
   "codemirror_mode": {
    "name": "ipython",
    "version": 3
   },
   "file_extension": ".py",
   "mimetype": "text/x-python",
   "name": "python",
   "nbconvert_exporter": "python",
   "pygments_lexer": "ipython3",
   "version": "3.11.10"
  }
 },
 "nbformat": 4,
 "nbformat_minor": 2
}

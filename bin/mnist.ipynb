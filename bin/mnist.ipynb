{
 "cells": [
  {
   "cell_type": "code",
   "execution_count": 1,
   "metadata": {},
   "outputs": [],
   "source": [
    "import numpy as np\n",
    "import matplotlib.pyplot as plt\n",
    "from keras.datasets import mnist\n",
    "from keras.utils import np_utils"
   ]
  },
  {
   "cell_type": "code",
   "execution_count": 2,
   "metadata": {},
   "outputs": [
    {
     "name": "stdout",
     "output_type": "stream",
     "text": [
      "(60000, 28, 28) (60000,)\n",
      "(10000, 28, 28) (10000, 28, 28)\n"
     ]
    }
   ],
   "source": [
    "(x_train, y_train), (x_test, y_test) = mnist.load_data()\n",
    "print(x_train.shape, y_train.shape)\n",
    "print(x_test.shape, x_test.shape)"
   ]
  },
  {
   "cell_type": "code",
   "execution_count": 3,
   "metadata": {},
   "outputs": [
    {
     "data": {
      "image/png": "[encoded data removed]",
      "text/plain": [
       "<Figure size 432x288 with 1 Axes>"
      ]
     },
     "metadata": {
      "needs_background": "light"
     },
     "output_type": "display_data"
    }
   ],
   "source": [
    "idx = 1\n",
    "values = x_train[idx]\n",
    "number = y_train[idx]\n",
    "\n",
    "ig = plt.figure\n",
    "plt.imshow(values, cmap='gray')\n",
    "plt.show()"
   ]
  },
  {
   "cell_type": "code",
   "execution_count": 4,
   "metadata": {},
   "outputs": [],
   "source": [
    "limit = 5\n",
    "zero_index = np.where(y_train == 0)[0][:limit]\n",
    "one_index = np.where(y_train == 1)[0][:limit]\n",
    "all_indices = np.hstack((zero_index, one_index))\n",
    "all_indices = np.random.permutation(all_indices)\n",
    "x, y = x_train[all_indices], y_train[all_indices]"
   ]
  },
  {
   "cell_type": "code",
   "execution_count": 5,
   "metadata": {},
   "outputs": [
    {
     "name": "stdout",
     "output_type": "stream",
     "text": [
      "(10, 28, 28)\n",
      "(10, 1, 28, 28)\n"
     ]
    }
   ],
   "source": [
    "print(x.shape)\n",
    "x = x.reshape(len(x), 1, 28, 28)\n",
    "print(x.shape)\n",
    "\n",
    "x = x.astype(\"float32\") / 255"
   ]
  },
  {
   "cell_type": "code",
   "execution_count": 6,
   "metadata": {},
   "outputs": [
    {
     "name": "stdout",
     "output_type": "stream",
     "text": [
      "[1 1 1 1 1 0 0 0 0 0]\n",
      "[[0. 1.]\n",
      " [0. 1.]\n",
      " [0. 1.]\n",
      " [0. 1.]\n",
      " [0. 1.]\n",
      " [1. 0.]\n",
      " [1. 0.]\n",
      " [1. 0.]\n",
      " [1. 0.]\n",
      " [1. 0.]]\n",
      "(10, 2, 1)\n"
     ]
    }
   ],
   "source": [
    "print(y)\n",
    "y = np_utils.to_categorical(y)\n",
    "print(y)\n",
    "y = y.reshape(len(y), 2, 1)\n",
    "print(y.shape)"
   ]
  }
 ],
 "metadata": {
  "interpreter": {
   "hash": "d9482f30ed8d9aa85c5e8e59a722db4bd67b60c47b13d5d5ca9a194db0bcaf61"
  },
  "kernelspec": {
   "display_name": "Python 3.8.10 64-bit ('python3-venv': venv)",
   "language": "python",
   "name": "python3"
  },
  "language_info": {
   "codemirror_mode": {
    "name": "ipython",
    "version": 3
   },
   "file_extension": ".py",
   "mimetype": "text/x-python",
   "name": "python",
   "nbconvert_exporter": "python",
   "pygments_lexer": "ipython3",
   "version": "3.8.10"
  },
  "orig_nbformat": 4
 },
 "nbformat": 4,
 "nbformat_minor": 2
}

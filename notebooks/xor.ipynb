{
 "cells": [
  {
   "cell_type": "code",
   "execution_count": null,
   "metadata": {},
   "outputs": [],
   "source": [
    "%matplotlib ipympl\n",
    "\n",
    "import numpy as np\n",
    "import matplotlib.pyplot as plt\n",
    "import pyml"
   ]
  },
  {
   "cell_type": "code",
   "execution_count": null,
   "metadata": {},
   "outputs": [],
   "source": [
    "# training data\n",
    "x_train = np.reshape([[0, 0], [0, 1], [1, 0], [1, 1]], (4, 2, 1))\n",
    "y_train = np.reshape([[0], [1], [1], [0]], (4, 1, 1))\n",
    "\n",
    "print(f'{x_train.shape=} {y_train.shape=}')"
   ]
  },
  {
   "cell_type": "code",
   "execution_count": null,
   "metadata": {},
   "outputs": [],
   "source": [
    "net = pyml.Network(pyml.MeanSquaredErrorLoss())\n",
    "net.add_layer(pyml.FullyConnectedLayer(2, 3))\n",
    "net.add_layer(pyml.ActivationLayer(pyml.HyperbolicTangentActivation()))\n",
    "net.add_layer(pyml.FullyConnectedLayer(3, 1))\n",
    "net.add_layer(pyml.ActivationLayer(pyml.HyperbolicTangentActivation()))\n",
    "\n",
    "net.train(x_train, y_train, epochs=100000, learning_rate=0.01, do_print=False)"
   ]
  },
  {
   "cell_type": "code",
   "execution_count": null,
   "metadata": {},
   "outputs": [],
   "source": [
    "points = []\n",
    "for x in np.linspace(0, 1, 20):\n",
    "    for y in np.linspace(0, 1, 20):\n",
    "        z = net.forward([[x], [y]])\n",
    "        points.append([x, y, z[0, 0]])\n",
    "\n",
    "points = np.array(points)\n",
    "\n",
    "fig = plt.figure()\n",
    "ax = fig.add_subplot(111, projection=\"3d\")\n",
    "ax.scatter(points[:, 0], points[:, 1], points[:, 2], c=points[:, 2], cmap=\"winter\")"
   ]
  }
 ],
 "metadata": {
  "kernelspec": {
   "display_name": ".venv",
   "language": "python",
   "name": "python3"
  },
  "language_info": {
   "codemirror_mode": {
    "name": "ipython",
    "version": 3
   },
   "file_extension": ".py",
   "mimetype": "text/x-python",
   "name": "python",
   "nbconvert_exporter": "python",
   "pygments_lexer": "ipython3",
   "version": "3.11.10"
  }
 },
 "nbformat": 4,
 "nbformat_minor": 2
}

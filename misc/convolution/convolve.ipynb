{
 "cells": [
  {
   "cell_type": "code",
   "execution_count": 1,
   "metadata": {},
   "outputs": [],
   "source": [
    "# MIT License\n",
    "#\n",
    "# Copyright (c) 2021 Florian\n",
    "#\n",
    "# Permission is hereby granted, free of charge, to any person obtaining a copy\n",
    "# of this software and associated documentation files (the \"Software\"), to deal\n",
    "# in the Software without restriction, including without limitation the rights\n",
    "# to use, copy, modify, merge, publish, distribute, sublicense, and/or sell\n",
    "# copies of the Software, and to permit persons to whom the Software is\n",
    "# furnished to do so, subject to the following conditions:\n",
    "#\n",
    "# The above copyright notice and this permission notice shall be included in all\n",
    "# copies or substantial portions of the Software.\n",
    "#\n",
    "# THE SOFTWARE IS PROVIDED \"AS IS\", WITHOUT WARRANTY OF ANY KIND, EXPRESS OR\n",
    "# IMPLIED, INCLUDING BUT NOT LIMITED TO THE WARRANTIES OF MERCHANTABILITY,\n",
    "# FITNESS FOR A PARTICULAR PURPOSE AND NONINFRINGEMENT. IN NO EVENT SHALL THE\n",
    "# AUTHORS OR COPYRIGHT HOLDERS BE LIABLE FOR ANY CLAIM, DAMAGES OR OTHER\n",
    "# LIABILITY, WHETHER IN AN ACTION OF CONTRACT, TORT OR OTHERWISE, ARISING FROM,\n",
    "# OUT OF OR IN CONNECTION WITH THE SOFTWARE OR THE USE OR OTHER DEALINGS IN THE\n",
    "# SOFTWARE.\n",
    "import os\n",
    "import numpy as np\n",
    "from ctypes import cdll, POINTER, c_size_t, c_void_p\n",
    "\n",
    "lib = cdll.LoadLibrary(os.path.abspath('convolve.so'))"
   ]
  },
  {
   "cell_type": "code",
   "execution_count": 2,
   "metadata": {},
   "outputs": [],
   "source": [
    "def add_padding(matrix, padding):\n",
    "    \"\"\"Add padding to given matrix.\"\"\"\n",
    "    n, m = matrix.shape\n",
    "    r, c = padding\n",
    "\n",
    "    padded_matrix = np.zeros((n + r * 2, m + c * 2))\n",
    "    padded_matrix[r: n + r, c: m + c] = matrix\n",
    "\n",
    "    return padded_matrix\n",
    "\n",
    "def cross_correlate_2d(matrix, kernel, mode='full', use_lib=True):\n",
    "    \"\"\"Convolve two 2-dimensional arrays.\"\"\"\n",
    "    nij = matrix.shape\n",
    "    kij = kernel.shape\n",
    "    if kij[0] % 2 == 0 or kij[1] % 2 == 0:\n",
    "        raise ValueError('Kernel shape should be odd!')\n",
    "\n",
    "    if mode == 'valid':\n",
    "        pij = 0, 0\n",
    "        mij = nij[0] - kij[0] + 1, nij[1] - kij[1] + 1\n",
    "    elif mode == 'same':\n",
    "        pij = (kij[0] - 1) // 2, (kij[1] - 1) // 2\n",
    "        mij = nij[0], nij[1]\n",
    "    elif mode == 'full':\n",
    "        pij = kij[0] - 1, kij[1] - 1\n",
    "        mij = nij[0] + kij[0] - 1, nij[1] + kij[1] - 1\n",
    "    else:\n",
    "        raise KeyError('Unknown mode!')\n",
    "\n",
    "    if pij[0] > 0 or pij[1] > 0:\n",
    "        matrix = add_padding(matrix, pij)\n",
    "\n",
    "    npij = matrix.shape\n",
    "    if npij[0] < kij[0] or npij[1] < kij[1]:\n",
    "        raise ValueError(\n",
    "            'Kernel can\\'t be bigger than matrix in terms of shape!')\n",
    "\n",
    "    if mij[0] <= 0 or mij[1] <= 0:\n",
    "        raise ValueError(\n",
    "            'Can\\'t apply input parameters, one of resulting output dimension is non-positive.')\n",
    "\n",
    "    matrix_out = np.zeros(mij)\n",
    "    if use_lib:\n",
    "        lib.convolve_2d(\n",
    "            (c_size_t * 2)(*npij), c_void_p(matrix.ctypes.data),\n",
    "            (c_size_t * 2)(*kij), c_void_p(kernel.ctypes.data),\n",
    "            (c_size_t * 2)(*mij), c_void_p(matrix_out.ctypes.data)\n",
    "        )\n",
    "    else:\n",
    "        for i in range(mij[0]):\n",
    "            indices_x = list(range(i, i + kij[0]))\n",
    "\n",
    "            for j in range(mij[1]):\n",
    "                indices_y = list(range(j, j + kij[1]))\n",
    "\n",
    "                submatrix = matrix[indices_x, :][:, indices_y]\n",
    "                matrix_out[i][j] = np.sum(np.multiply(submatrix, kernel))\n",
    "\n",
    "    return matrix_out\n",
    "\n",
    "def convolve_2d(matrix, kernel, mode='full', use_lib=True):\n",
    "    \"\"\"Convolve two 2-dimensional arrays (flips kernel).\"\"\"\n",
    "    kernel_flip = np.flipud(np.fliplr(kernel))\n",
    "    kernel_flip = kernel_flip.ravel().reshape(kernel.shape)\n",
    "    return cross_correlate_2d(matrix, kernel_flip, mode=mode, use_lib=use_lib)"
   ]
  },
  {
   "cell_type": "code",
   "execution_count": 3,
   "metadata": {},
   "outputs": [
    {
     "name": "stdout",
     "output_type": "stream",
     "text": [
      "True\n",
      "True\n",
      "True\n"
     ]
    }
   ],
   "source": [
    "from scipy.signal import correlate2d\n",
    "\n",
    "n, k = 100, 61\n",
    "\n",
    "a = cross_correlate_2d(np.ones((n, n)), np.ones((k ,k)), mode='valid')\n",
    "b = correlate2d(np.ones((n, n)), np.ones((k, k)), mode='valid')\n",
    "print((a == b).all())\n",
    "\n",
    "a = cross_correlate_2d(np.ones((n, n)), np.ones((k, k)), mode='same')\n",
    "b = correlate2d(np.ones((n, n)), np.ones((k, k)), mode='same')\n",
    "print((a == b).all())\n",
    "\n",
    "a = cross_correlate_2d(np.ones((n, n)), np.ones((k, k)), mode='full')\n",
    "b = correlate2d(np.ones((n, n)), np.ones((k, k)), mode='full')\n",
    "print((a == b).all())"
   ]
  },
  {
   "cell_type": "code",
   "execution_count": 4,
   "metadata": {},
   "outputs": [
    {
     "data": {
      "text/plain": [
       "True"
      ]
     },
     "execution_count": 4,
     "metadata": {},
     "output_type": "execute_result"
    }
   ],
   "source": [
    "import cv2\n",
    "from scipy.signal import convolve2d\n",
    "\n",
    "def process_image(image): \n",
    "  image = cv2.imread(image) \n",
    "  image = cv2.cvtColor(src=image, code=cv2.COLOR_BGR2GRAY) \n",
    "  return image\n",
    "\n",
    "def gaussian_kernel(n=5, sigma=0.85):\n",
    "    \"\"\"\\\n",
    "    creates gaussian kernel with side length `l` and a sigma\n",
    "    \"\"\"\n",
    "    ax = np.linspace(-(n - 1) / 2., (n - 1) / 2., n)\n",
    "    gauss = np.exp(-0.5 * np.square(ax) / np.square(sigma))\n",
    "    kernel = np.outer(gauss, gauss)\n",
    "    return kernel / np.sum(kernel)\n",
    "\n",
    "image = process_image('sample.jpg')\n",
    "\n",
    "# gaussian_blur = 1/16 * np.array([[1, 2, 1], [2, 4, 2], [1, 2, 1]])\n",
    "gaussian_blur = gaussian_kernel(21, sigma=10)\n",
    "\n",
    "image_new = convolve_2d(image, gaussian_blur, mode='same')\n",
    "# image_new = convolve2d(image, gaussian_blur, mode='same', use_lib=False)\n",
    "# image_new = convolve2d(image, gaussian_blur, mode='same')\n",
    "\n",
    "cv2.imwrite('sample_convolved.jpg', image_new)"
   ]
  },
  {
   "cell_type": "code",
   "execution_count": 5,
   "metadata": {},
   "outputs": [
    {
     "name": "stdout",
     "output_type": "stream",
     "text": [
      "34.1 ms ± 451 µs per loop (mean ± std. dev. of 7 runs, 10 loops each)\n",
      "409 ms ± 6.51 ms per loop (mean ± std. dev. of 7 runs, 1 loop each)\n"
     ]
    }
   ],
   "source": [
    "%timeit convolve_2d(image, gaussian_blur, mode='same')\n",
    "# %timeit convolve_2d(image, gaussian_blur, mode='same', use_lib=False)\n",
    "%timeit convolve2d(image, gaussian_blur, mode='same')"
   ]
  }
 ],
 "metadata": {
  "interpreter": {
   "hash": "d9482f30ed8d9aa85c5e8e59a722db4bd67b60c47b13d5d5ca9a194db0bcaf61"
  },
  "kernelspec": {
   "display_name": "Python 3.8.10 64-bit ('python3-venv': venv)",
   "language": "python",
   "name": "python3"
  },
  "language_info": {
   "codemirror_mode": {
    "name": "ipython",
    "version": 3
   },
   "file_extension": ".py",
   "mimetype": "text/x-python",
   "name": "python",
   "nbconvert_exporter": "python",
   "pygments_lexer": "ipython3",
   "version": "3.9.10"
  },
  "orig_nbformat": 4
 },
 "nbformat": 4,
 "nbformat_minor": 2
}
